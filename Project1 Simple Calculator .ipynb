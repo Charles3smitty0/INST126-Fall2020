{
 "cells": [
  {
   "cell_type": "code",
   "execution_count": 23,
   "metadata": {},
   "outputs": [
    {
     "name": "stdout",
     "output_type": "stream",
     "text": [
      "select operation\n",
      "1. Addition\n",
      "2. Subraction\n",
      "3. Multiplication\n",
      "4. Division\n",
      "Enter choice 1,2,3,4:7\n",
      "Enter number: 0\n",
      "Enter another number: 0\n",
      "Invalid\n"
     ]
    }
   ],
   "source": [
    "# Simple Calculator\n",
    "\n",
    "#Defining functions\n",
    "\n",
    "#Addition\n",
    "def addition (x,y):\n",
    "    return x + y\n",
    "#Subtraction\n",
    "def subtraction (x,y):\n",
    "    return x - y\n",
    "#Multiplication \n",
    "def multiplication (x,y):\n",
    "    return x * y\n",
    "#Division\n",
    "def division (x,y):\n",
    "    return x / y\n",
    "\n",
    "#Choice of operation\n",
    "print(\"select operation\")\n",
    "print(\"1. Addition\")\n",
    "print(\"2. Subraction\")\n",
    "print(\"3. Multiplication\")\n",
    "print(\"4. Division\")\n",
    "\n",
    "#User Input\n",
    "choice = input(\"Enter choice 1,2,3,4:\")\n",
    "                         \n",
    "number1 = float(input(\"Enter number: \"))\n",
    "\n",
    "number2 = float(input(\"Enter another number: \"))\n",
    "                \n",
    "#Conditional Statements\n",
    "if choice == '1':\n",
    "            print(number1, \"+\", number2, \"=\",addition(number1,number2))\n",
    "\n",
    "elif choice == '2':\n",
    "            print(number1, \"-\", number2, \"=\",subtraction(number1,number2))\n",
    "\n",
    "elif choice == '3':\n",
    "            print(number1, \"*\", number2, \"=\",multiplication(number1,number2))\n",
    "\n",
    "elif choice == '4':\n",
    "            print(number1, \"/\", number2, \"=\",division(number1,number2))\n",
    "\n",
    "else:\n",
    "    print(\"Invalid\")\n"
   ]
  },
  {
   "cell_type": "code",
   "execution_count": null,
   "metadata": {},
   "outputs": [],
   "source": []
  }
 ],
 "metadata": {
  "kernelspec": {
   "display_name": "Python 3",
   "language": "python",
   "name": "python3"
  },
  "language_info": {
   "codemirror_mode": {
    "name": "ipython",
    "version": 3
   },
   "file_extension": ".py",
   "mimetype": "text/x-python",
   "name": "python",
   "nbconvert_exporter": "python",
   "pygments_lexer": "ipython3",
   "version": "3.8.5"
  }
 },
 "nbformat": 4,
 "nbformat_minor": 4
}
